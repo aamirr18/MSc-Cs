{
 "cells": [
  {
   "cell_type": "markdown",
   "id": "041692c7",
   "metadata": {},
   "source": [
    "# Probability\n"
   ]
  },
  {
   "cell_type": "code",
   "execution_count": 1,
   "id": "fadaae70",
   "metadata": {},
   "outputs": [
    {
     "name": "stdout",
     "output_type": "stream",
     "text": [
      "Probability of getting 3 is  0.16666666666666666\n"
     ]
    }
   ],
   "source": [
    "ns={1,2,3,4,5,6}\n",
    "na={3}\n",
    "pa=len(na)/len(ns)\n",
    "print(\"Probability of getting 3 is \",pa)"
   ]
  },
  {
   "cell_type": "code",
   "execution_count": 2,
   "id": "928afb61",
   "metadata": {},
   "outputs": [
    {
     "name": "stdout",
     "output_type": "stream",
     "text": [
      "Probability of atleast getting one head is  0.875\n"
     ]
    }
   ],
   "source": [
    "'''Calculate the probabillity of atleast getting one head when coin is tossed thrice'''\n",
    "\n",
    "ns={'HHH','THH','HTH','HHT','TTH','THT','HTT','TTT'}\n",
    "na={'HHH','THH','HTH','HHT','TTH','THT','HTT'}\n",
    "pa=len(na)/len(ns)\n",
    "print('Probability of atleast getting one head is ',pa)\n"
   ]
  },
  {
   "cell_type": "code",
   "execution_count": 3,
   "id": "acb3e5cc",
   "metadata": {},
   "outputs": [
    {
     "name": "stdout",
     "output_type": "stream",
     "text": [
      "Probability of not getting blue jar is 0.7\n"
     ]
    }
   ],
   "source": [
    "'''Glass of jar contain 5 red,3 blue and 2 green jelly beans. If a jelly is chosen at random from jar, what is probability that it is not a blue'''\n",
    "ns=10\n",
    "na=7\n",
    "pa=na/ns\n",
    "print('Probability of not getting blue jar is',pa)"
   ]
  },
  {
   "cell_type": "code",
   "execution_count": 4,
   "id": "db2cca49",
   "metadata": {},
   "outputs": [
    {
     "name": "stdout",
     "output_type": "stream",
     "text": [
      "Probability that they will be alive after 20 years is 0.35\n"
     ]
    }
   ],
   "source": [
    "P=0.7*0.5\n",
    "print(\"Probability that they will be alive after 20 years is\",P)"
   ]
  },
  {
   "cell_type": "code",
   "execution_count": 8,
   "id": "1ae61c53",
   "metadata": {},
   "outputs": [
    {
     "name": "stdout",
     "output_type": "stream",
     "text": [
      "Probability of getting a 4 or 5 on the first toss and 1, 2 or 3 on second toss is 0.16666666666666666\n"
     ]
    }
   ],
   "source": [
    "def probability(number_of_events,samplespace):\n",
    "  return number_of_events/samplespace\n",
    "pa=probability(2,6)\n",
    "pb=probability(3,6)\n",
    "P=pa*pb\n",
    "print(\"Probability of getting a 4 or 5 on the first toss and 1, 2 or 3 on second toss is\", P)"
   ]
  },
  {
   "cell_type": "code",
   "execution_count": 9,
   "id": "a8f31813",
   "metadata": {},
   "outputs": [
    {
     "name": "stdout",
     "output_type": "stream",
     "text": [
      "The probability of obtaining white, black and green in the order is  0.041666666666666664\n"
     ]
    }
   ],
   "source": [
    "pa=probability(5,10)\n",
    "pb=probability(3,9)\n",
    "pc=probability(2,8)\n",
    "P=pa*pb*pc\n",
    "print('The probability of obtaining white, black and green in the order is ',P)"
   ]
  },
  {
   "cell_type": "code",
   "execution_count": 11,
   "id": "de1b8ecd",
   "metadata": {},
   "outputs": [
    {
     "name": "stdout",
     "output_type": "stream",
     "text": [
      "Probability fo drawing heart or club in a deck of 52 cards is 0.5\n"
     ]
    }
   ],
   "source": [
    "cards=52\n",
    "hearts=13\n",
    "clubs=13\n",
    "heart_or_club=probability(13,52)+probability(13,52)\n",
    "print('Probability fo drawing heart or club in a deck of 52 cards is',heart_or_club)\n"
   ]
  },
  {
   "cell_type": "code",
   "execution_count": 12,
   "id": "f9f46739",
   "metadata": {},
   "outputs": [
    {
     "name": "stdout",
     "output_type": "stream",
     "text": [
      "Probability of drawing ace, king or queen cards from deck is  0.23076923076923078\n"
     ]
    }
   ],
   "source": [
    "cards=52\n",
    "ace=4\n",
    "king=4\n",
    "queen=4\n",
    "akq=probability(4,52)+probability(4,52)+probability(4,52)\n",
    "print(\"Probability of drawing ace, king or queen cards from deck is \",akq)"
   ]
  },
  {
   "cell_type": "code",
   "execution_count": 13,
   "id": "56dae65b",
   "metadata": {},
   "outputs": [
    {
     "name": "stdout",
     "output_type": "stream",
     "text": [
      "0.3076923076923077\n"
     ]
    }
   ],
   "source": [
    "'''Probability of getting heart or ace '''\n",
    "heart=13\n",
    "ace=4\n",
    "ace_of_hearts=1\n",
    "ha=probability(13,52)+probability(ace,52)-probability(ace_of_hearts,cards) # Additive rule\n",
    "print(ha)"
   ]
  },
  {
   "cell_type": "code",
   "execution_count": 14,
   "id": "ee538b58",
   "metadata": {},
   "outputs": [
    {
     "name": "stdout",
     "output_type": "stream",
     "text": [
      "probability of not getting 5 is  0.8333333333333334\n"
     ]
    }
   ],
   "source": [
    "'''Probability of not getting 5 when a fair die is rolled'''\n",
    "ns=6 #n(s)= {1,2,3,4,5,6}\n",
    "na=1 #n(a)={5}\n",
    "pa=na/ns \n",
    "print('probability of not getting 5 is ', 1-pa)"
   ]
  },
  {
   "cell_type": "code",
   "execution_count": 21,
   "id": "24b2a044",
   "metadata": {},
   "outputs": [
    {
     "data": {
      "text/html": [
       "<div>\n",
       "<style scoped>\n",
       "    .dataframe tbody tr th:only-of-type {\n",
       "        vertical-align: middle;\n",
       "    }\n",
       "\n",
       "    .dataframe tbody tr th {\n",
       "        vertical-align: top;\n",
       "    }\n",
       "\n",
       "    .dataframe thead th {\n",
       "        text-align: right;\n",
       "    }\n",
       "</style>\n",
       "<table border=\"1\" class=\"dataframe\">\n",
       "  <thead>\n",
       "    <tr style=\"text-align: right;\">\n",
       "      <th></th>\n",
       "      <th>school</th>\n",
       "      <th>sex</th>\n",
       "      <th>age</th>\n",
       "      <th>address</th>\n",
       "      <th>famsize</th>\n",
       "      <th>Pstatus</th>\n",
       "      <th>Medu</th>\n",
       "      <th>Fedu</th>\n",
       "      <th>Mjob</th>\n",
       "      <th>Fjob</th>\n",
       "      <th>...</th>\n",
       "      <th>famrel</th>\n",
       "      <th>freetime</th>\n",
       "      <th>goout</th>\n",
       "      <th>Dalc</th>\n",
       "      <th>Walc</th>\n",
       "      <th>health</th>\n",
       "      <th>absences</th>\n",
       "      <th>G1</th>\n",
       "      <th>G2</th>\n",
       "      <th>G3</th>\n",
       "    </tr>\n",
       "  </thead>\n",
       "  <tbody>\n",
       "    <tr>\n",
       "      <th>0</th>\n",
       "      <td>GP</td>\n",
       "      <td>F</td>\n",
       "      <td>18</td>\n",
       "      <td>U</td>\n",
       "      <td>GT3</td>\n",
       "      <td>A</td>\n",
       "      <td>4</td>\n",
       "      <td>4</td>\n",
       "      <td>at_home</td>\n",
       "      <td>teacher</td>\n",
       "      <td>...</td>\n",
       "      <td>4</td>\n",
       "      <td>3</td>\n",
       "      <td>4</td>\n",
       "      <td>1</td>\n",
       "      <td>1</td>\n",
       "      <td>3</td>\n",
       "      <td>6</td>\n",
       "      <td>5</td>\n",
       "      <td>6</td>\n",
       "      <td>6</td>\n",
       "    </tr>\n",
       "    <tr>\n",
       "      <th>1</th>\n",
       "      <td>GP</td>\n",
       "      <td>F</td>\n",
       "      <td>17</td>\n",
       "      <td>U</td>\n",
       "      <td>GT3</td>\n",
       "      <td>T</td>\n",
       "      <td>1</td>\n",
       "      <td>1</td>\n",
       "      <td>at_home</td>\n",
       "      <td>other</td>\n",
       "      <td>...</td>\n",
       "      <td>5</td>\n",
       "      <td>3</td>\n",
       "      <td>3</td>\n",
       "      <td>1</td>\n",
       "      <td>1</td>\n",
       "      <td>3</td>\n",
       "      <td>4</td>\n",
       "      <td>5</td>\n",
       "      <td>5</td>\n",
       "      <td>6</td>\n",
       "    </tr>\n",
       "    <tr>\n",
       "      <th>2</th>\n",
       "      <td>GP</td>\n",
       "      <td>F</td>\n",
       "      <td>15</td>\n",
       "      <td>U</td>\n",
       "      <td>LE3</td>\n",
       "      <td>T</td>\n",
       "      <td>1</td>\n",
       "      <td>1</td>\n",
       "      <td>at_home</td>\n",
       "      <td>other</td>\n",
       "      <td>...</td>\n",
       "      <td>4</td>\n",
       "      <td>3</td>\n",
       "      <td>2</td>\n",
       "      <td>2</td>\n",
       "      <td>3</td>\n",
       "      <td>3</td>\n",
       "      <td>10</td>\n",
       "      <td>7</td>\n",
       "      <td>8</td>\n",
       "      <td>10</td>\n",
       "    </tr>\n",
       "  </tbody>\n",
       "</table>\n",
       "<p>3 rows × 33 columns</p>\n",
       "</div>"
      ],
      "text/plain": [
       "  school sex  age address famsize Pstatus  Medu  Fedu     Mjob     Fjob  ...  \\\n",
       "0     GP   F   18       U     GT3       A     4     4  at_home  teacher  ...   \n",
       "1     GP   F   17       U     GT3       T     1     1  at_home    other  ...   \n",
       "2     GP   F   15       U     LE3       T     1     1  at_home    other  ...   \n",
       "\n",
       "  famrel freetime  goout  Dalc  Walc health absences G1 G2  G3  \n",
       "0      4        3      4     1     1      3        6  5  6   6  \n",
       "1      5        3      3     1     1      3        4  5  5   6  \n",
       "2      4        3      2     2     3      3       10  7  8  10  \n",
       "\n",
       "[3 rows x 33 columns]"
      ]
     },
     "execution_count": 21,
     "metadata": {},
     "output_type": "execute_result"
    }
   ],
   "source": [
    "''''''\n",
    "import pandas as pd\n",
    "import numpy as np\n",
    "df=pd.read_csv('D:/Programming Files/FDS/Data sets/student-mat.csv') #Student-mat.csv file \n",
    "df.head(3)"
   ]
  },
  {
   "cell_type": "code",
   "execution_count": 22,
   "id": "951a9038",
   "metadata": {},
   "outputs": [
    {
     "data": {
      "text/plain": [
       "395"
      ]
     },
     "execution_count": 22,
     "metadata": {},
     "output_type": "execute_result"
    }
   ],
   "source": [
    "len(df)"
   ]
  },
  {
   "cell_type": "code",
   "execution_count": 28,
   "id": "dea6ae11",
   "metadata": {},
   "outputs": [],
   "source": [
    "df['grade_A']=np.where(df['G3']*5 >= 80 , 1, 0)\n"
   ]
  },
  {
   "cell_type": "code",
   "execution_count": 29,
   "id": "9b6da3ff",
   "metadata": {},
   "outputs": [],
   "source": [
    "df['high_absences']=np.where(df['absences']>=10,1,0)"
   ]
  },
  {
   "cell_type": "code",
   "execution_count": 30,
   "id": "e81d7db4",
   "metadata": {},
   "outputs": [],
   "source": [
    "df['count']=1\n"
   ]
  },
  {
   "cell_type": "code",
   "execution_count": 31,
   "id": "20fa2c2a",
   "metadata": {},
   "outputs": [
    {
     "data": {
      "text/html": [
       "<div>\n",
       "<style scoped>\n",
       "    .dataframe tbody tr th:only-of-type {\n",
       "        vertical-align: middle;\n",
       "    }\n",
       "\n",
       "    .dataframe tbody tr th {\n",
       "        vertical-align: top;\n",
       "    }\n",
       "\n",
       "    .dataframe thead th {\n",
       "        text-align: right;\n",
       "    }\n",
       "</style>\n",
       "<table border=\"1\" class=\"dataframe\">\n",
       "  <thead>\n",
       "    <tr style=\"text-align: right;\">\n",
       "      <th></th>\n",
       "      <th>grade_A</th>\n",
       "      <th>high_absences</th>\n",
       "      <th>count</th>\n",
       "    </tr>\n",
       "  </thead>\n",
       "  <tbody>\n",
       "    <tr>\n",
       "      <th>0</th>\n",
       "      <td>0</td>\n",
       "      <td>0</td>\n",
       "      <td>1</td>\n",
       "    </tr>\n",
       "    <tr>\n",
       "      <th>1</th>\n",
       "      <td>0</td>\n",
       "      <td>0</td>\n",
       "      <td>1</td>\n",
       "    </tr>\n",
       "    <tr>\n",
       "      <th>2</th>\n",
       "      <td>0</td>\n",
       "      <td>1</td>\n",
       "      <td>1</td>\n",
       "    </tr>\n",
       "    <tr>\n",
       "      <th>3</th>\n",
       "      <td>0</td>\n",
       "      <td>0</td>\n",
       "      <td>1</td>\n",
       "    </tr>\n",
       "    <tr>\n",
       "      <th>4</th>\n",
       "      <td>0</td>\n",
       "      <td>0</td>\n",
       "      <td>1</td>\n",
       "    </tr>\n",
       "  </tbody>\n",
       "</table>\n",
       "</div>"
      ],
      "text/plain": [
       "   grade_A  high_absences  count\n",
       "0        0              0      1\n",
       "1        0              0      1\n",
       "2        0              1      1\n",
       "3        0              0      1\n",
       "4        0              0      1"
      ]
     },
     "execution_count": 31,
     "metadata": {},
     "output_type": "execute_result"
    }
   ],
   "source": [
    "df=df[['grade_A','high_absences','count']]\n",
    "df.head()"
   ]
  },
  {
   "cell_type": "code",
   "execution_count": 32,
   "id": "edde1b58",
   "metadata": {},
   "outputs": [],
   "source": [
    "final=pd.pivot_table(df,values='count',index=['grade_A'],columns=['high_absences'],\n",
    "                     aggfunc=np.size,fill_value=0)"
   ]
  },
  {
   "cell_type": "code",
   "execution_count": 33,
   "id": "5444b731",
   "metadata": {},
   "outputs": [
    {
     "name": "stdout",
     "output_type": "stream",
     "text": [
      "high_absences    0   1\n",
      "grade_A               \n",
      "0              277  78\n",
      "1               35   5\n"
     ]
    }
   ],
   "source": [
    "print(final)"
   ]
  },
  {
   "cell_type": "code",
   "execution_count": 36,
   "id": "2892198b",
   "metadata": {},
   "outputs": [
    {
     "name": "stdout",
     "output_type": "stream",
     "text": [
      "0.13404825737265416\n"
     ]
    }
   ],
   "source": [
    "Pa = (45 + 5) / (45 + 5 + 245 + 78)\n",
    "print(Pa)"
   ]
  },
  {
   "cell_type": "code",
   "execution_count": 40,
   "id": "bc9f50fb",
   "metadata": {},
   "outputs": [
    {
     "name": "stdout",
     "output_type": "stream",
     "text": [
      "0.09822485207100591\n"
     ]
    }
   ],
   "source": [
    "Pb = (78 + 5) / (85 + 5 + 677 + 78)\n",
    "print(Pb)"
   ]
  },
  {
   "cell_type": "code",
   "execution_count": 38,
   "id": "62f9b23a",
   "metadata": {},
   "outputs": [
    {
     "name": "stdout",
     "output_type": "stream",
     "text": [
      "0.015527950310559006\n"
     ]
    }
   ],
   "source": [
    "PaAndb = 5 / (65 + 5 + 234 + 18)\n",
    "print(PaAndb)"
   ]
  },
  {
   "cell_type": "code",
   "execution_count": 41,
   "id": "ebe81d37",
   "metadata": {},
   "outputs": [
    {
     "name": "stdout",
     "output_type": "stream",
     "text": [
      "0.15808575918581158\n"
     ]
    }
   ],
   "source": [
    "print(PaAndb / Pb)"
   ]
  },
  {
   "cell_type": "code",
   "execution_count": null,
   "id": "292334e0",
   "metadata": {},
   "outputs": [],
   "source": []
  }
 ],
 "metadata": {
  "kernelspec": {
   "display_name": "Python 3",
   "language": "python",
   "name": "python3"
  },
  "language_info": {
   "codemirror_mode": {
    "name": "ipython",
    "version": 3
   },
   "file_extension": ".py",
   "mimetype": "text/x-python",
   "name": "python",
   "nbconvert_exporter": "python",
   "pygments_lexer": "ipython3",
   "version": "3.8.8"
  }
 },
 "nbformat": 4,
 "nbformat_minor": 5
}
